{
  "cells": [
    {
      "cell_type": "code",
      "execution_count": null,
      "metadata": {
        "colab": {
          "background_save": true,
          "base_uri": "https://localhost:8080/"
        },
        "id": "dLIyFjt9qro5",
        "outputId": "597f64af-b91e-4097-94ae-67a2790d3927"
      },
      "outputs": [
        {
          "name": "stdout",
          "output_type": "stream",
          "text": [
            "welcome to the task management app\n"
          ]
        }
      ],
      "source": [
        "def task():\n",
        "  task=[]#empty list\n",
        "  print(\"welcome to the task management app\")\n",
        "  total_task=int(input(\"Enter how many task you want to add=\"))\n",
        "  for i in range (1,total_task+1):\n",
        "    task_name=input(f\"Enter the task{i}=\")#enter the task=3\n",
        "    task.append(task_name)\n",
        "    print(\"show all \\n {task}\")\n",
        "    while True:\n",
        "      operation = int(input(\"ENter 1-add\\n 2-update\\n 3-deletion\\n 4-view\\n 5-stop\"))\n",
        "      if operation ==1:\n",
        "        add=input(\"Enter the task you want to add\")\n",
        "        task.append(add)\n",
        "        print(f\"Task{add}has been successfully added..\")\n",
        "\n",
        "      elif operation ==2:\n",
        "        updated_val = input(\"Enter the task you want to update\")\n",
        "        if updated_val in task:\n",
        "          up=input(\"Enter the new task=\")\n",
        "          ind=task.index(updated_val)\n",
        "          task[ind]=up\n",
        "          print(f\"updated task{up}\")\n",
        "\n",
        "\n",
        "      elif operation==3:\n",
        "        def_val=input(\"Enter the task you want to delete\")\n",
        "        if def_val in task:\n",
        "          task.remove(def_val)\n",
        "          print(f\"Task{def_val}has been successfully deleted..\")\n",
        "\n",
        "      elif operation ==4:\n",
        "        print(\"total task={task}\")\n",
        "      elif operation==5:\n",
        "        print(\"closing the program...\")\n",
        "        break\n",
        "      else:\n",
        "        print(\"invalid option\")\n",
        "task()\n",
        "\n"
      ]
    },
    {
      "cell_type": "code",
      "execution_count": null,
      "metadata": {
        "id": "DFw6Ov6DwcZ4"
      },
      "outputs": [],
      "source": []
    }
  ],
  "metadata": {
    "colab": {
      "provenance": []
    },
    "kernelspec": {
      "display_name": "Python 3",
      "name": "python3"
    },
    "language_info": {
      "name": "python"
    }
  },
  "nbformat": 4,
  "nbformat_minor": 0
}